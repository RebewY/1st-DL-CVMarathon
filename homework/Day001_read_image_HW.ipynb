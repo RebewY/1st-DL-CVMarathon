{
 "cells": [
  {
   "cell_type": "markdown",
   "metadata": {},
   "source": [
    "# 作業\n",
    "\n",
    "思考一下我們前面有提到圖片是矩陣，但維度可能會不一樣\n",
    "例如灰階圖只有兩個維度，RGB 彩圖則有 3 個維度\n",
    "\n",
    "假如今天我們把 RGB 3 個維度拆開來看會有甚麼不同的效果呢？"
   ]
  },
  {
   "cell_type": "code",
   "execution_count": 1,
   "metadata": {},
   "outputs": [],
   "source": [
    "import cv2\n",
    "import numpy as np\n",
    "\n",
    "\n",
    "img_path = 'data/lena.png'\n",
    "\n",
    "# 以彩色圖片的方式載入\n",
    "img = cv2.imread(img_path, cv2.IMREAD_COLOR)\n",
    "#print(type(img))\n",
    "#print(img.ndim)\n",
    "#print(img.shape)\n",
    "tup=img.shape\n",
    "#print(tup[0])\n",
    "#print(x)\n",
    "imgB=imgG=imgR=None\n",
    "\n",
    "for row in img:\n",
    "    ib,ig,ir=np.hsplit(row,3)\n",
    "    if imgB is None:\n",
    "        imgB=ib\n",
    "    else:\n",
    "        imgB=np.concatenate((imgB, ib), axis = 0)\n",
    "    if imgG is None:\n",
    "        imgG=ig\n",
    "    else:\n",
    "        imgG=np.concatenate((imgG, ig), axis = 0)\n",
    "    if imgR is None:\n",
    "        imgR=ir\n",
    "    else:\n",
    "        imgR=np.concatenate((imgR, ir), axis = 0)\n",
    "#print(imgA.shape)\n",
    "imgB=imgB.reshape(tup[0],tup[1],1)\n",
    "imgG=imgG.reshape(tup[0],tup[1],1)\n",
    "imgR=imgR.reshape(tup[0],tup[1],1)\n",
    "\n",
    "#print(np.hsplit( x[0],2))\n",
    "#print(x[0][0][0])\n",
    "#z = np.array([[[1,2,3][4,5,6][7,8,9]],[[1,2,3][4,5,6][7,8,9]],[[1,2,3],[4,5,6],[7,8,9]]])\n",
    "#print(z)\n",
    "#print(img)\n",
    "#imgA,imgB,imgC=np.split(img,3,axis=1)\n",
    "\n",
    "# 為了要不斷顯示圖片，所以使用一個迴圈\n",
    "while True:\n",
    "    # 顯示彩圖\n",
    "    cv2.imshow('img', img)\n",
    "    cv2.imshow('B', imgB)\n",
    "    cv2.imshow('G', imgG)\n",
    "    cv2.imshow('R', imgR)\n",
    "    # 直到按下 ESC 鍵才會自動關閉視窗結束程式\n",
    "    k = cv2.waitKey(0)\n",
    "    if k == 27:\n",
    "        cv2.destroyAllWindows()\n",
    "        break"
   ]
  },
  {
   "cell_type": "code",
   "execution_count": null,
   "metadata": {},
   "outputs": [],
   "source": []
  }
 ],
 "metadata": {
  "kernelspec": {
   "display_name": "Python 3",
   "language": "python",
   "name": "python3"
  },
  "language_info": {
   "codemirror_mode": {
    "name": "ipython",
    "version": 3
   },
   "file_extension": ".py",
   "mimetype": "text/x-python",
   "name": "python",
   "nbconvert_exporter": "python",
   "pygments_lexer": "ipython3",
   "version": "3.7.4"
  }
 },
 "nbformat": 4,
 "nbformat_minor": 2
}
